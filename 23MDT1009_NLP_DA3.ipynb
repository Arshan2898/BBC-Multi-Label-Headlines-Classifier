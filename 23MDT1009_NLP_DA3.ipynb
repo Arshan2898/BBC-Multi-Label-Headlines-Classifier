{
  "cells": [
    {
      "cell_type": "code",
      "execution_count": 9,
      "id": "1c734e67",
      "metadata": {
        "id": "1c734e67"
      },
      "outputs": [],
      "source": [
        "import csv\n",
        "import tensorflow as tf\n",
        "import numpy as np\n",
        "import pandas as pd\n",
        "from tensorflow.keras.preprocessing.text import Tokenizer\n",
        "from tensorflow.keras.preprocessing.sequence import pad_sequences\n",
        "from nltk.corpus import stopwords\n",
        "import nltk"
      ]
    },
    {
      "cell_type": "code",
      "execution_count": 7,
      "id": "6631afb1",
      "metadata": {
        "colab": {
          "base_uri": "https://localhost:8080/",
          "height": 0
        },
        "id": "6631afb1",
        "outputId": "d1cc3ca0-2002-4de0-d44f-1cad64892de8"
      },
      "outputs": [
        {
          "output_type": "stream",
          "name": "stdout",
          "text": [
            "1.26.4\n",
            "2.17.1\n"
          ]
        }
      ],
      "source": [
        "print(np.__version__)\n",
        "print(tf.__version__)"
      ]
    },
    {
      "cell_type": "code",
      "source": [
        "nltk.download('stopwords')"
      ],
      "metadata": {
        "colab": {
          "base_uri": "https://localhost:8080/",
          "height": 0
        },
        "id": "qiyjiehKV6NS",
        "outputId": "f197d3a5-7890-42a9-9078-17f4599f2146"
      },
      "id": "qiyjiehKV6NS",
      "execution_count": 10,
      "outputs": [
        {
          "output_type": "stream",
          "name": "stderr",
          "text": [
            "[nltk_data] Downloading package stopwords to /root/nltk_data...\n",
            "[nltk_data]   Unzipping corpora/stopwords.zip.\n"
          ]
        },
        {
          "output_type": "execute_result",
          "data": {
            "text/plain": [
              "True"
            ]
          },
          "metadata": {},
          "execution_count": 10
        }
      ]
    },
    {
      "cell_type": "code",
      "source": [
        "pip install nltk"
      ],
      "metadata": {
        "colab": {
          "base_uri": "https://localhost:8080/",
          "height": 0
        },
        "id": "sfUojehQV8da",
        "outputId": "1f83c293-3d90-4aeb-ed7e-e808774b54e3"
      },
      "id": "sfUojehQV8da",
      "execution_count": 5,
      "outputs": [
        {
          "output_type": "stream",
          "name": "stdout",
          "text": [
            "Requirement already satisfied: nltk in /usr/local/lib/python3.10/dist-packages (3.9.1)\n",
            "Requirement already satisfied: click in /usr/local/lib/python3.10/dist-packages (from nltk) (8.1.7)\n",
            "Requirement already satisfied: joblib in /usr/local/lib/python3.10/dist-packages (from nltk) (1.4.2)\n",
            "Requirement already satisfied: regex>=2021.8.3 in /usr/local/lib/python3.10/dist-packages (from nltk) (2024.9.11)\n",
            "Requirement already satisfied: tqdm in /usr/local/lib/python3.10/dist-packages (from nltk) (4.66.6)\n"
          ]
        }
      ]
    },
    {
      "cell_type": "markdown",
      "id": "4defc492",
      "metadata": {
        "id": "4defc492"
      },
      "source": [
        "#### Set up stopwords"
      ]
    },
    {
      "cell_type": "code",
      "execution_count": 11,
      "id": "b220306b",
      "metadata": {
        "id": "b220306b"
      },
      "outputs": [],
      "source": [
        "STOPWORDS = set(stopwords.words('english'))"
      ]
    },
    {
      "cell_type": "markdown",
      "id": "e4d6528d",
      "metadata": {
        "id": "e4d6528d"
      },
      "source": [
        "#### Set up key parameters"
      ]
    },
    {
      "cell_type": "code",
      "execution_count": 13,
      "id": "a4416e1b",
      "metadata": {
        "id": "a4416e1b"
      },
      "outputs": [],
      "source": [
        "vocab_size = 5000\n",
        "embedding_dim = 64\n",
        "max_length = 200\n",
        "trunc_type = 'post'\n",
        "padding_type = 'post'\n",
        "oov_tok = '<OOV>'\n",
        "training_portion = .8"
      ]
    },
    {
      "cell_type": "code",
      "execution_count": 14,
      "id": "d34fcd8d",
      "metadata": {
        "id": "d34fcd8d"
      },
      "outputs": [],
      "source": [
        "#create empty lists for articles and their corresponding labels\n",
        "articles = []\n",
        "labels = []"
      ]
    },
    {
      "cell_type": "markdown",
      "id": "c45e3e77",
      "metadata": {
        "id": "c45e3e77"
      },
      "source": [
        "#### Read the BBC headline corpus"
      ]
    },
    {
      "cell_type": "code",
      "execution_count": 15,
      "id": "26412029",
      "metadata": {
        "collapsed": true,
        "colab": {
          "base_uri": "https://localhost:8080/",
          "height": 0
        },
        "id": "26412029",
        "outputId": "e141e759-8a36-43e6-e603-22139300d55b"
      },
      "outputs": [
        {
          "output_type": "stream",
          "name": "stdout",
          "text": [
            "Total no. of rows: 2226\n",
            "Field names are:category, text\n",
            "\n",
            "First 5 rows are:\n",
            "\n",
            "      tech tv future in the hands of viewers with home theatre systems  plasma high-definition tvs  and digital video recorders moving into the living room  the way people watch tv will be radically different in five years  time.  that is according to an expert panel which gathered at the annual consumer electronics show in las vegas to discuss how these new technologies will impact one of our favourite pastimes. with the us leading the trend  programmes and other content will be delivered to viewers via home networks  through cable  satellite  telecoms companies  and broadband service providers to front rooms and portable devices.  one of the most talked-about technologies of ces has been digital and personal video recorders (dvr and pvr). these set-top boxes  like the us s tivo and the uk s sky+ system  allow people to record  store  play  pause and forward wind tv programmes when they want.  essentially  the technology allows for much more personalised tv. they are also being built-in to high-definition tv sets  which are big business in japan and the us  but slower to take off in europe because of the lack of high-definition programming. not only can people forward wind through adverts  they can also forget about abiding by network and channel schedules  putting together their own a-la-carte entertainment. but some us networks and cable and satellite companies are worried about what it means for them in terms of advertising revenues as well as  brand identity  and viewer loyalty to channels. although the us leads in this technology at the moment  it is also a concern that is being raised in europe  particularly with the growing uptake of services like sky+.  what happens here today  we will see in nine months to a years  time in the uk   adam hume  the bbc broadcast s futurologist told the bbc news website. for the likes of the bbc  there are no issues of lost advertising revenue yet. it is a more pressing issue at the moment for commercial uk broadcasters  but brand loyalty is important for everyone.  we will be talking more about content brands rather than network brands   said tim hanlon  from brand communications firm starcom mediavest.  the reality is that with broadband connections  anybody can be the producer of content.  he added:  the challenge now is that it is hard to promote a programme with so much choice.   what this means  said stacey jolna  senior vice president of tv guide tv group  is that the way people find the content they want to watch has to be simplified for tv viewers. it means that networks  in us terms  or channels could take a leaf out of google s book and be the search engine of the future  instead of the scheduler to help people find what they want to watch. this kind of channel model might work for the younger ipod generation which is used to taking control of their gadgets and what they play on them. but it might not suit everyone  the panel recognised. older generations are more comfortable with familiar schedules and channel brands because they know what they are getting. they perhaps do not want so much of the choice put into their hands  mr hanlon suggested.  on the other end  you have the kids just out of diapers who are pushing buttons already - everything is possible and available to them   said mr hanlon.  ultimately  the consumer will tell the market they want.   of the 50 000 new gadgets and technologies being showcased at ces  many of them are about enhancing the tv-watching experience. high-definition tv sets are everywhere and many new models of lcd (liquid crystal display) tvs have been launched with dvr capability built into them  instead of being external boxes. one such example launched at the show is humax s 26-inch lcd tv with an 80-hour tivo dvr and dvd recorder. one of the us s biggest satellite tv companies  directtv  has even launched its own branded dvr at the show with 100-hours of recording capability  instant replay  and a search function. the set can pause and rewind tv for up to 90 hours. and microsoft chief bill gates announced in his pre-show keynote speech a partnership with tivo  called tivotogo  which means people can play recorded programmes on windows pcs and mobile devices. all these reflect the increasing trend of freeing up multimedia so that people can watch what they want  when they want. \n",
            "\n",
            "  business worldcom boss  left books alone  former worldcom boss bernie ebbers  who is accused of overseeing an $11bn (£5.8bn) fraud  never made accounting decisions  a witness has told jurors.  david myers made the comments under questioning by defence lawyers who have been arguing that mr ebbers was not responsible for worldcom s problems. the phone company collapsed in 2002 and prosecutors claim that losses were hidden to protect the firm s shares. mr myers has already pleaded guilty to fraud and is assisting prosecutors.  on monday  defence lawyer reid weingarten tried to distance his client from the allegations. during cross examination  he asked mr myers if he ever knew mr ebbers  make an accounting decision  .  not that i am aware of   mr myers replied.  did you ever know mr ebbers to make an accounting entry into worldcom books   mr weingarten pressed.  no   replied the witness. mr myers has admitted that he ordered false accounting entries at the request of former worldcom chief financial officer scott sullivan. defence lawyers have been trying to paint mr sullivan  who has admitted fraud and will testify later in the trial  as the mastermind behind worldcom s accounting house of cards.  mr ebbers  team  meanwhile  are looking to portray him as an affable boss  who by his own admission is more pe graduate than economist. whatever his abilities  mr ebbers transformed worldcom from a relative unknown into a $160bn telecoms giant and investor darling of the late 1990s. worldcom s problems mounted  however  as competition increased and the telecoms boom petered out. when the firm finally collapsed  shareholders lost about $180bn and 20 000 workers lost their jobs. mr ebbers  trial is expected to last two months and if found guilty the former ceo faces a substantial jail sentence. he has firmly declared his innocence. \n",
            "\n",
            "     sport tigers wary of farrell  gamble  leicester say they will not be rushed into making a bid for andy farrell should the great britain rugby league captain decide to switch codes.   we and anybody else involved in the process are still some way away from going to the next stage   tigers boss john wells told bbc radio leicester.  at the moment  there are still a lot of unknowns about andy farrell  not least his medical situation.  whoever does take him on is going to take a big  big gamble.  farrell  who has had persistent knee problems  had an operation on his knee five weeks ago and is expected to be out for another three months. leicester and saracens are believed to head the list of rugby union clubs interested in signing farrell if he decides to move to the 15-man game.  if he does move across to union  wells believes he would better off playing in the backs  at least initially.  i m sure he could make the step between league and union by being involved in the centre   said wells.  i think england would prefer him to progress to a position in the back row where they can make use of some of his rugby league skills within the forwards.  the jury is out on whether he can cross that divide.  at this club  the balance will have to be struck between the cost of that gamble and the option of bringing in a ready-made replacement. \n",
            "\n",
            "     sport yeading face newcastle in fa cup premiership side newcastle united face a trip to ryman premier league leaders yeading in the fa cup third round.  the game - arguably the highlight of the draw - is a potential money-spinner for non-league yeading  who beat slough in the second round. conference side exeter city  who knocked out doncaster on saturday  will travel to old trafford to meet holders manchester united in january. arsenal were drawn at home to stoke and chelsea will play host to scunthorpe. the only other non-league side in the draw are hinckley united  who held brentford to a goalless draw on sunday. they will meet league one leaders luton if they win their replay against martin allen s team at griffin park.  a number of premiership teams face difficult away games against championship sides on the weekend of 8/9 january. third-placed everton visit plymouth  liverpool travel to burnley  crystal palace go to sunderland  fulham face carling cup semi-finalists watford  bolton meet ipswich  while aston villa were drawn against sheffield united. premiership strugglers norwich  blackburn  west brom are away at west ham  cardiff and preston north end respectively. southampton visit northampton  having already beaten the league two side in the carling cup earlier this season. middlesbrough were drawn away against either swindon or notts county  while spurs entertain brighton at white hart lane.  arsenal v stoke  swindon/notts co v middlesbrough  man utd v exeter  plymouth v everton  leicester v blackpool  derby v wigan  sunderland v crystal palace  wolves v millwall  yeading v newcastle  hull v colchester  tottenham v brighton  reading v stockport/swansea  birmingham v leeds  hartlepool v boston  milton keynes dons v peterborough  oldham v man city  chelsea v scunthorpe  cardiff v blackburn  charlton v rochdale  west ham v norwich  sheff utd v aston villa  preston v west brom  rotherham v yeovil  burnley v liverpool  bournemouth v chester  coventry v crewe  watford v fulham  ipswich v bolton  portsmouth v gillingham  northampton v southampton  qpr v nottm forest  luton v hinckley/brentford  matches to be played on weekend of 8/9 january. \n",
            "\n",
            "entertainment ocean s twelve raids box office ocean s twelve  the crime caper sequel starring george clooney  brad pitt and julia roberts  has gone straight to number one in the us box office chart.  it took $40.8m (£21m) in weekend ticket sales  according to studio estimates. the sequel follows the master criminals as they try to pull off three major heists across europe. it knocked last week s number one  national treasure  into third place. wesley snipes  blade: trinity was in second  taking $16.1m (£8.4m). rounding out the top five was animated fable the polar express  starring tom hanks  and festive comedy christmas with the kranks.  ocean s twelve box office triumph marks the fourth-biggest opening for a december release in the us  after the three films in the lord of the rings trilogy. the sequel narrowly beat its 2001 predecessor  ocean s eleven which took $38.1m (£19.8m) on its opening weekend and $184m (£95.8m) in total. a remake of the 1960s film  starring frank sinatra and the rat pack  ocean s eleven was directed by oscar-winning director steven soderbergh. soderbergh returns to direct the hit sequel which reunites clooney  pitt and roberts with matt damon  andy garcia and elliott gould. catherine zeta-jones joins the all-star cast.  it s just a fun  good holiday movie   said dan fellman  president of distribution at warner bros. however  us critics were less complimentary about the $110m (£57.2m) project  with the los angeles times labelling it a  dispiriting vanity project . a milder review in the new york times dubbed the sequel  unabashedly trivial . \n",
            "\n"
          ]
        }
      ],
      "source": [
        "# importing csv module\n",
        "import csv\n",
        "\n",
        "# csv file name\n",
        "filename = \"bbc-text.csv\"\n",
        "\n",
        "# initializing the titles and rows list\n",
        "fields = []\n",
        "rows = []\n",
        "\n",
        "# reading csv file\n",
        "with open(filename, 'r') as csvfile:\n",
        "\t# creating a csv reader object\n",
        "\tcsvreader = csv.reader(csvfile)\n",
        "\n",
        "\t# extracting field names through first row\n",
        "\tfields = next(csvreader)\n",
        "\n",
        "\t# extracting each data row one by one\n",
        "\tfor row in csvreader:\n",
        "\t\trows.append(row)\n",
        "\n",
        "\t# get total number of rows\n",
        "\tprint(\"Total no. of rows: %d\"%(csvreader.line_num))\n",
        "\n",
        "# printing the field names\n",
        "print('Field names are:' + ', '.join(field for field in fields))\n",
        "\n",
        "# printing first 5 rows\n",
        "print('\\nFirst 5 rows are:\\n')\n",
        "for row in rows[:5]:\n",
        "\t# parsing each column of a row\n",
        "\tfor col in row:\n",
        "\t\tprint(\"%10s\"%col,end=\" \"),\n",
        "\tprint('\\n')\n"
      ]
    },
    {
      "cell_type": "markdown",
      "id": "9b873a5b",
      "metadata": {
        "id": "9b873a5b"
      },
      "source": [
        "#### Append articles and labels to seperate lists"
      ]
    },
    {
      "cell_type": "code",
      "execution_count": 16,
      "id": "4627fef7",
      "metadata": {
        "colab": {
          "base_uri": "https://localhost:8080/",
          "height": 0
        },
        "id": "4627fef7",
        "outputId": "9ded9f49-5956-4ffb-fc10-74d6dc8e8c17"
      },
      "outputs": [
        {
          "output_type": "stream",
          "name": "stdout",
          "text": [
            "2225\n",
            "2225\n"
          ]
        }
      ],
      "source": [
        "with open('bbc-text.csv', 'r') as csvfile:\n",
        "    reader = csv.reader(csvfile, delimiter=',')\n",
        "    next(reader)\n",
        "    for row in reader:\n",
        "        labels.append(row[0])\n",
        "        article = row[1]\n",
        "        for word in STOPWORDS:\n",
        "            token = ' ' + word + ' '\n",
        "            article = article.replace(token, ' ')\n",
        "            article = article.replace(' ', ' ')\n",
        "        articles.append(article)\n",
        "print(len(labels))\n",
        "print(len(articles))"
      ]
    },
    {
      "cell_type": "code",
      "execution_count": 17,
      "id": "e2c8f160",
      "metadata": {
        "colab": {
          "base_uri": "https://localhost:8080/",
          "height": 0
        },
        "id": "e2c8f160",
        "outputId": "b34d8fb9-f15f-45f1-eeef-76d698f4b75b"
      },
      "outputs": [
        {
          "output_type": "execute_result",
          "data": {
            "text/plain": [
              "['business', 'entertainment', 'politics', 'sport', 'tech']"
            ]
          },
          "metadata": {},
          "execution_count": 17
        }
      ],
      "source": [
        "sorted(set(labels))"
      ]
    },
    {
      "cell_type": "markdown",
      "id": "c2438ea4",
      "metadata": {
        "id": "c2438ea4"
      },
      "source": [
        "#### Split Training and Validation data"
      ]
    },
    {
      "cell_type": "code",
      "execution_count": 18,
      "id": "c007c435",
      "metadata": {
        "colab": {
          "base_uri": "https://localhost:8080/",
          "height": 0
        },
        "id": "c007c435",
        "outputId": "728d5aa5-1ac9-490f-f0c0-e082e1083361"
      },
      "outputs": [
        {
          "output_type": "stream",
          "name": "stdout",
          "text": [
            "1780\n",
            "1780\n",
            "1780\n",
            "445\n",
            "445\n"
          ]
        }
      ],
      "source": [
        "train_size = int(len(articles) * training_portion)\n",
        "\n",
        "train_articles = articles[:train_size]\n",
        "train_labels = labels[:train_size]\n",
        "\n",
        "validation_articles = articles[train_size:]\n",
        "validation_labels = labels[train_size:]\n",
        "\n",
        "\n",
        "print(train_size)\n",
        "print(len(train_articles))\n",
        "print(len(train_labels))\n",
        "print(len(validation_articles))\n",
        "print(len(validation_labels))"
      ]
    },
    {
      "cell_type": "markdown",
      "id": "d9e84bd0",
      "metadata": {
        "id": "d9e84bd0"
      },
      "source": [
        "#### Tokenizing and Padding the data"
      ]
    },
    {
      "cell_type": "code",
      "execution_count": 19,
      "id": "c1e64e4c",
      "metadata": {
        "id": "c1e64e4c"
      },
      "outputs": [],
      "source": [
        "tokenizer = Tokenizer(num_words=vocab_size, oov_token=oov_tok)\n",
        "tokenizer.fit_on_texts(train_articles)\n",
        "word_index = tokenizer.word_index\n",
        "#dict(list(word_index.items())[:20])"
      ]
    },
    {
      "cell_type": "code",
      "execution_count": 20,
      "id": "f192fb4e",
      "metadata": {
        "colab": {
          "base_uri": "https://localhost:8080/",
          "height": 0
        },
        "id": "f192fb4e",
        "outputId": "a8a8fde1-5c52-4ff1-fa3b-0efc02499338"
      },
      "outputs": [
        {
          "output_type": "stream",
          "name": "stdout",
          "text": [
            "[91, 3813, 1, 1, 2864, 18, 1, 1, 2713, 961, 3419, 453, 1446, 283, 26, 58, 2864, 18, 99, 20, 1122, 5, 100, 961, 6, 1, 666, 2660, 2, 463, 4708, 8, 619, 1498, 159, 20, 927, 147, 3069, 7, 219, 2556, 1567, 3813, 2, 1, 961, 12, 58, 98, 383, 1, 1, 676, 1822, 200, 111, 443, 3813, 2, 4, 28, 38, 816, 2678, 2864, 18, 139, 1106, 2773, 2829, 58, 522, 1, 3016, 453, 1446, 2473, 1433, 147, 1, 70, 1, 1, 3984, 160, 1, 1, 528, 2809, 1, 91, 283, 58, 1, 2864, 18, 453, 1446, 1295, 142, 1, 1, 2961, 283, 2293, 247, 19, 3813, 276, 485, 6, 1, 37, 10, 4069, 1459, 330]\n"
          ]
        }
      ],
      "source": [
        "#check sequenced texts\n",
        "train_sequences = tokenizer.texts_to_sequences(train_articles)\n",
        "print(train_sequences[1779])"
      ]
    },
    {
      "cell_type": "code",
      "execution_count": 21,
      "id": "e0cbc004",
      "metadata": {
        "id": "e0cbc004"
      },
      "outputs": [],
      "source": [
        "#Add padding to the squences to keep all the sentences similar in length and format\n",
        "train_padded = pad_sequences(train_sequences, maxlen=max_length, padding=padding_type, truncating=trunc_type)"
      ]
    },
    {
      "cell_type": "code",
      "execution_count": 22,
      "id": "d421ff0e",
      "metadata": {
        "colab": {
          "base_uri": "https://localhost:8080/",
          "height": 0
        },
        "id": "d421ff0e",
        "outputId": "da45c177-b514-4984-e465-0a0ffa7688d6"
      },
      "outputs": [
        {
          "output_type": "stream",
          "name": "stdout",
          "text": [
            "426\n",
            "200\n",
            "192\n",
            "200\n",
            "186\n",
            "200\n"
          ]
        }
      ],
      "source": [
        "#check for difference between tokenized and tokenized + padded sequences\n",
        "print(len(train_sequences[0]))\n",
        "print(len(train_padded[0]))\n",
        "\n",
        "print(len(train_sequences[1]))\n",
        "print(len(train_padded[1]))\n",
        "\n",
        "print(len(train_sequences[10]))\n",
        "print(len(train_padded[10]))"
      ]
    },
    {
      "cell_type": "code",
      "execution_count": 23,
      "id": "d793f22c",
      "metadata": {
        "colab": {
          "base_uri": "https://localhost:8080/",
          "height": 0
        },
        "id": "d793f22c",
        "outputId": "1f3b2c2f-b1ea-4786-bba9-11973bae8107"
      },
      "outputs": [
        {
          "output_type": "stream",
          "name": "stdout",
          "text": [
            "[2432, 1, 225, 4995, 22, 641, 587, 225, 4995, 1, 1, 1663, 1, 1, 2432, 22, 565, 1, 1, 140, 278, 1, 140, 278, 796, 822, 662, 2308, 1, 1144, 1694, 1, 1721, 4996, 1, 1, 1, 1, 1, 4738, 1, 1, 122, 4514, 1, 2, 2875, 1506, 352, 4739, 1, 52, 341, 1, 352, 2173, 3963, 41, 22, 3795, 1, 1, 1, 1, 542, 1, 1, 1, 835, 631, 2367, 347, 4740, 1, 365, 22, 1, 787, 2368, 1, 4302, 138, 10, 1, 3666, 682, 3532, 1, 22, 1, 414, 822, 662, 1, 90, 13, 633, 1, 225, 4995, 1, 600, 1, 1694, 1021, 1, 4997, 807, 1864, 117, 1, 1, 1, 2975, 22, 1, 99, 278, 1, 1608, 4998, 542, 492, 1, 1444, 4741, 779, 1320, 1, 1861, 10, 33, 641, 319, 1, 62, 478, 565, 301, 1507, 22, 479, 1, 1, 1666, 1, 797, 1, 3067, 1, 1365, 6, 1, 2432, 565, 22, 2972, 4735, 1, 1, 1, 1, 1, 850, 39, 1825, 675, 297, 26, 979, 1, 882, 22, 361, 22, 13, 301, 1507, 1343, 374, 20, 63, 883, 1096, 4303, 247]\n",
            "[2432    1  225 4995   22  641  587  225 4995    1    1 1663    1    1\n",
            " 2432   22  565    1    1  140  278    1  140  278  796  822  662 2308\n",
            "    1 1144 1694    1 1721 4996    1    1    1    1    1 4738    1    1\n",
            "  122 4514    1    2 2875 1506  352 4739    1   52  341    1  352 2173\n",
            " 3963   41   22 3795    1    1    1    1  542    1    1    1  835  631\n",
            " 2367  347 4740    1  365   22    1  787 2368    1 4302  138   10    1\n",
            " 3666  682 3532    1   22    1  414  822  662    1   90   13  633    1\n",
            "  225 4995    1  600    1 1694 1021    1 4997  807 1864  117    1    1\n",
            "    1 2975   22    1   99  278    1 1608 4998  542  492    1 1444 4741\n",
            "  779 1320    1 1861   10   33  641  319    1   62  478  565  301 1507\n",
            "   22  479    1    1 1666    1  797    1 3067    1 1365    6    1 2432\n",
            "  565   22 2972 4735    1    1    1    1    1  850   39 1825  675  297\n",
            "   26  979    1  882   22  361   22   13  301 1507 1343  374   20   63\n",
            "  883 1096 4303  247    0    0    0    0    0    0    0    0    0    0\n",
            "    0    0    0    0]\n"
          ]
        }
      ],
      "source": [
        "print(train_sequences[10])\n",
        "print(train_padded[10])"
      ]
    },
    {
      "cell_type": "code",
      "execution_count": 24,
      "id": "873c7274",
      "metadata": {
        "colab": {
          "base_uri": "https://localhost:8080/",
          "height": 0
        },
        "id": "873c7274",
        "outputId": "7e95705c-a1ba-4b93-b52a-905cdc63cea2"
      },
      "outputs": [
        {
          "output_type": "stream",
          "name": "stdout",
          "text": [
            "445\n",
            "(445, 200)\n"
          ]
        }
      ],
      "source": [
        "#Tokenize and pad validation sequences too\n",
        "validation_sequences = tokenizer.texts_to_sequences(validation_articles)\n",
        "validation_padded = pad_sequences(validation_sequences, maxlen=max_length,\n",
        "                                  padding=padding_type, truncating=trunc_type)\n",
        "\n",
        "\n",
        "print(len(validation_sequences))\n",
        "print(validation_padded.shape)"
      ]
    },
    {
      "cell_type": "code",
      "execution_count": 25,
      "id": "c0bbe892",
      "metadata": {
        "colab": {
          "base_uri": "https://localhost:8080/",
          "height": 0
        },
        "id": "c0bbe892",
        "outputId": "e8aa0534-2f0d-4163-b247-6738bfaed797"
      },
      "outputs": [
        {
          "output_type": "stream",
          "name": "stdout",
          "text": [
            "[4]\n",
            "[2]\n",
            "[1]\n",
            "(1780, 1)\n",
            "[5]\n",
            "[4]\n",
            "[3]\n",
            "(445, 1)\n"
          ]
        }
      ],
      "source": [
        "# Tokenizing the labbels\n",
        "label_tokenizer = Tokenizer()\n",
        "label_tokenizer.fit_on_texts(labels)\n",
        "\n",
        "training_label_seq = np.array(label_tokenizer.texts_to_sequences(train_labels))\n",
        "validation_label_seq = np.array(label_tokenizer.texts_to_sequences(validation_labels))\n",
        "\n",
        "print(training_label_seq[0])\n",
        "print(training_label_seq[1])\n",
        "print(training_label_seq[2])\n",
        "print(training_label_seq.shape)\n",
        "\n",
        "print(validation_label_seq[0])\n",
        "print(validation_label_seq[1])\n",
        "print(validation_label_seq[2])\n",
        "print(validation_label_seq.shape)"
      ]
    },
    {
      "cell_type": "markdown",
      "id": "a7f102b1",
      "metadata": {
        "id": "a7f102b1"
      },
      "source": [
        "#### Dictionary of tokenized data for decoding"
      ]
    },
    {
      "cell_type": "code",
      "execution_count": 26,
      "id": "f5af888c",
      "metadata": {
        "id": "f5af888c"
      },
      "outputs": [],
      "source": [
        "rev_word_index = dict([(val, key) for (key,val) in word_index.items()])"
      ]
    },
    {
      "cell_type": "code",
      "execution_count": 27,
      "id": "8d35433a",
      "metadata": {
        "id": "8d35433a"
      },
      "outputs": [],
      "source": [
        "def decode_article(text):\n",
        "    return ' '.join([rev_word_index.get(i,'?') for i in text])"
      ]
    },
    {
      "cell_type": "code",
      "execution_count": 28,
      "id": "2315a6e2",
      "metadata": {
        "colab": {
          "base_uri": "https://localhost:8080/",
          "height": 0
        },
        "id": "2315a6e2",
        "outputId": "f5a682a3-e5d5-4432-cc3e-311c385a120a"
      },
      "outputs": [
        {
          "output_type": "stream",
          "name": "stdout",
          "text": [
            "berlin cheers anti-nazi film german movie anti-nazi resistance heroine drawn loud applause berlin film festival.  sophie scholl - final days portrays final days member white rose movement. scholl  21  arrested beheaded brother  hans  1943 distributing leaflets condemning  abhorrent tyranny  adolf hitler. director marc rothemund said:  feeling responsibility keep legacy scholls going.   must somehow keep ideas alive   added.  film drew transcripts gestapo interrogations scholl trial preserved archive communist east germany secret police. discovery inspiration behind film rothemund  worked closely surviving relatives  including one scholl sisters  ensure historical accuracy film. scholl members white rose resistance group first started distributing anti-nazi leaflets summer 1942. arrested dropped leaflets munich university calling  day reckoning  adolf hitler regime. film focuses six days scholl arrest intense trial saw scholl initially deny charges ended defiant appearance. one three german films vying top prize festival.  south african film version bizet tragic opera carmen shot cape town xhosa language also premiered berlin festival. film entitled u-carmen ekhayelitsha carmen khayelitsha township story set. performed 40-strong music theatre troupe debut film performance. film first south african feature 25 years second nominated golden bear award.\n",
            "=============================================================\n",
            "berlin <OOV> anti nazi film german movie anti nazi <OOV> <OOV> drawn <OOV> <OOV> berlin film festival <OOV> <OOV> final days <OOV> final days member white rose movement <OOV> 21 arrested <OOV> brother hans <OOV> <OOV> <OOV> <OOV> <OOV> tyranny <OOV> <OOV> director marc <OOV> said feeling responsibility keep legacy <OOV> going must <OOV> keep ideas alive added film drew <OOV> <OOV> <OOV> <OOV> trial <OOV> <OOV> <OOV> east germany secret police discovery <OOV> behind film <OOV> worked closely <OOV> relatives including one <OOV> sisters ensure historical <OOV> film <OOV> members white rose <OOV> group first started <OOV> anti nazi <OOV> summer <OOV> arrested dropped <OOV> munich university calling day <OOV> <OOV> <OOV> regime film <OOV> six days <OOV> arrest intense trial saw <OOV> initially deny charges ended <OOV> appearance one three german films <OOV> top prize festival south african film version <OOV> <OOV> opera <OOV> shot <OOV> town <OOV> language also <OOV> berlin festival film entitled u <OOV> <OOV> <OOV> <OOV> <OOV> story set performed 40 strong music theatre <OOV> debut film performance film first south african feature 25 years second nominated golden bear award ? ? ? ? ? ? ? ? ? ? ? ? ? ?\n"
          ]
        }
      ],
      "source": [
        "#test the original and decoded text\n",
        "print(train_articles[10])\n",
        "print(\"=============================================================\")\n",
        "print(decode_article(train_padded[10]))"
      ]
    },
    {
      "cell_type": "markdown",
      "id": "46de59d7",
      "metadata": {
        "id": "46de59d7"
      },
      "source": [
        "#### Build a RNN for training the corpus"
      ]
    },
    {
      "cell_type": "code",
      "execution_count": 29,
      "id": "de516267",
      "metadata": {
        "id": "de516267"
      },
      "outputs": [],
      "source": [
        "model = tf.keras.Sequential([\n",
        "    tf.keras.layers.Embedding(vocab_size, embedding_dim),\n",
        "    tf.keras.layers.Bidirectional(tf.keras.layers.LSTM(embedding_dim)),\n",
        "    tf.keras.layers.Dense(embedding_dim, activation='relu'),\n",
        "    tf.keras.layers.Dense(6, activation = 'softmax')\n",
        "])\n",
        "\n",
        "#"
      ]
    },
    {
      "cell_type": "code",
      "execution_count": 30,
      "id": "42797690",
      "metadata": {
        "colab": {
          "base_uri": "https://localhost:8080/",
          "height": 257
        },
        "id": "42797690",
        "outputId": "7538ef75-f7d4-469f-a220-0e9c262cdc42"
      },
      "outputs": [
        {
          "output_type": "display_data",
          "data": {
            "text/plain": [
              "\u001b[1mModel: \"sequential\"\u001b[0m\n"
            ],
            "text/html": [
              "<pre style=\"white-space:pre;overflow-x:auto;line-height:normal;font-family:Menlo,'DejaVu Sans Mono',consolas,'Courier New',monospace\"><span style=\"font-weight: bold\">Model: \"sequential\"</span>\n",
              "</pre>\n"
            ]
          },
          "metadata": {}
        },
        {
          "output_type": "display_data",
          "data": {
            "text/plain": [
              "┏━━━━━━━━━━━━━━━━━━━━━━━━━━━━━━━━━━━━━━┳━━━━━━━━━━━━━━━━━━━━━━━━━━━━━┳━━━━━━━━━━━━━━━━━┓\n",
              "┃\u001b[1m \u001b[0m\u001b[1mLayer (type)                        \u001b[0m\u001b[1m \u001b[0m┃\u001b[1m \u001b[0m\u001b[1mOutput Shape               \u001b[0m\u001b[1m \u001b[0m┃\u001b[1m \u001b[0m\u001b[1m        Param #\u001b[0m\u001b[1m \u001b[0m┃\n",
              "┡━━━━━━━━━━━━━━━━━━━━━━━━━━━━━━━━━━━━━━╇━━━━━━━━━━━━━━━━━━━━━━━━━━━━━╇━━━━━━━━━━━━━━━━━┩\n",
              "│ embedding (\u001b[38;5;33mEmbedding\u001b[0m)                │ ?                           │     \u001b[38;5;34m0\u001b[0m (unbuilt) │\n",
              "├──────────────────────────────────────┼─────────────────────────────┼─────────────────┤\n",
              "│ bidirectional (\u001b[38;5;33mBidirectional\u001b[0m)        │ ?                           │     \u001b[38;5;34m0\u001b[0m (unbuilt) │\n",
              "├──────────────────────────────────────┼─────────────────────────────┼─────────────────┤\n",
              "│ dense (\u001b[38;5;33mDense\u001b[0m)                        │ ?                           │     \u001b[38;5;34m0\u001b[0m (unbuilt) │\n",
              "├──────────────────────────────────────┼─────────────────────────────┼─────────────────┤\n",
              "│ dense_1 (\u001b[38;5;33mDense\u001b[0m)                      │ ?                           │     \u001b[38;5;34m0\u001b[0m (unbuilt) │\n",
              "└──────────────────────────────────────┴─────────────────────────────┴─────────────────┘\n"
            ],
            "text/html": [
              "<pre style=\"white-space:pre;overflow-x:auto;line-height:normal;font-family:Menlo,'DejaVu Sans Mono',consolas,'Courier New',monospace\">┏━━━━━━━━━━━━━━━━━━━━━━━━━━━━━━━━━━━━━━┳━━━━━━━━━━━━━━━━━━━━━━━━━━━━━┳━━━━━━━━━━━━━━━━━┓\n",
              "┃<span style=\"font-weight: bold\"> Layer (type)                         </span>┃<span style=\"font-weight: bold\"> Output Shape                </span>┃<span style=\"font-weight: bold\">         Param # </span>┃\n",
              "┡━━━━━━━━━━━━━━━━━━━━━━━━━━━━━━━━━━━━━━╇━━━━━━━━━━━━━━━━━━━━━━━━━━━━━╇━━━━━━━━━━━━━━━━━┩\n",
              "│ embedding (<span style=\"color: #0087ff; text-decoration-color: #0087ff\">Embedding</span>)                │ ?                           │     <span style=\"color: #00af00; text-decoration-color: #00af00\">0</span> (unbuilt) │\n",
              "├──────────────────────────────────────┼─────────────────────────────┼─────────────────┤\n",
              "│ bidirectional (<span style=\"color: #0087ff; text-decoration-color: #0087ff\">Bidirectional</span>)        │ ?                           │     <span style=\"color: #00af00; text-decoration-color: #00af00\">0</span> (unbuilt) │\n",
              "├──────────────────────────────────────┼─────────────────────────────┼─────────────────┤\n",
              "│ dense (<span style=\"color: #0087ff; text-decoration-color: #0087ff\">Dense</span>)                        │ ?                           │     <span style=\"color: #00af00; text-decoration-color: #00af00\">0</span> (unbuilt) │\n",
              "├──────────────────────────────────────┼─────────────────────────────┼─────────────────┤\n",
              "│ dense_1 (<span style=\"color: #0087ff; text-decoration-color: #0087ff\">Dense</span>)                      │ ?                           │     <span style=\"color: #00af00; text-decoration-color: #00af00\">0</span> (unbuilt) │\n",
              "└──────────────────────────────────────┴─────────────────────────────┴─────────────────┘\n",
              "</pre>\n"
            ]
          },
          "metadata": {}
        },
        {
          "output_type": "display_data",
          "data": {
            "text/plain": [
              "\u001b[1m Total params: \u001b[0m\u001b[38;5;34m0\u001b[0m (0.00 B)\n"
            ],
            "text/html": [
              "<pre style=\"white-space:pre;overflow-x:auto;line-height:normal;font-family:Menlo,'DejaVu Sans Mono',consolas,'Courier New',monospace\"><span style=\"font-weight: bold\"> Total params: </span><span style=\"color: #00af00; text-decoration-color: #00af00\">0</span> (0.00 B)\n",
              "</pre>\n"
            ]
          },
          "metadata": {}
        },
        {
          "output_type": "display_data",
          "data": {
            "text/plain": [
              "\u001b[1m Trainable params: \u001b[0m\u001b[38;5;34m0\u001b[0m (0.00 B)\n"
            ],
            "text/html": [
              "<pre style=\"white-space:pre;overflow-x:auto;line-height:normal;font-family:Menlo,'DejaVu Sans Mono',consolas,'Courier New',monospace\"><span style=\"font-weight: bold\"> Trainable params: </span><span style=\"color: #00af00; text-decoration-color: #00af00\">0</span> (0.00 B)\n",
              "</pre>\n"
            ]
          },
          "metadata": {}
        },
        {
          "output_type": "display_data",
          "data": {
            "text/plain": [
              "\u001b[1m Non-trainable params: \u001b[0m\u001b[38;5;34m0\u001b[0m (0.00 B)\n"
            ],
            "text/html": [
              "<pre style=\"white-space:pre;overflow-x:auto;line-height:normal;font-family:Menlo,'DejaVu Sans Mono',consolas,'Courier New',monospace\"><span style=\"font-weight: bold\"> Non-trainable params: </span><span style=\"color: #00af00; text-decoration-color: #00af00\">0</span> (0.00 B)\n",
              "</pre>\n"
            ]
          },
          "metadata": {}
        }
      ],
      "source": [
        "model.summary()"
      ]
    },
    {
      "cell_type": "code",
      "execution_count": 31,
      "id": "93c7e1f3",
      "metadata": {
        "colab": {
          "base_uri": "https://localhost:8080/",
          "height": 0
        },
        "id": "93c7e1f3",
        "outputId": "24489cfa-d74c-49b9-fa86-726b98f8e8d2"
      },
      "outputs": [
        {
          "output_type": "stream",
          "name": "stdout",
          "text": [
            "Epoch 1/10\n",
            "56/56 - 17s - 307ms/step - accuracy: 0.3275 - loss: 1.5439 - val_accuracy: 0.6607 - val_loss: 1.1076\n",
            "Epoch 2/10\n",
            "56/56 - 16s - 285ms/step - accuracy: 0.7197 - loss: 0.7934 - val_accuracy: 0.8067 - val_loss: 0.6213\n",
            "Epoch 3/10\n",
            "56/56 - 17s - 303ms/step - accuracy: 0.9303 - loss: 0.2642 - val_accuracy: 0.8629 - val_loss: 0.3552\n",
            "Epoch 4/10\n",
            "56/56 - 21s - 371ms/step - accuracy: 0.9663 - loss: 0.1246 - val_accuracy: 0.9191 - val_loss: 0.3057\n",
            "Epoch 5/10\n",
            "56/56 - 20s - 349ms/step - accuracy: 0.9882 - loss: 0.0596 - val_accuracy: 0.9258 - val_loss: 0.3046\n",
            "Epoch 6/10\n",
            "56/56 - 22s - 385ms/step - accuracy: 0.9949 - loss: 0.0202 - val_accuracy: 0.9213 - val_loss: 0.2903\n",
            "Epoch 7/10\n",
            "56/56 - 19s - 345ms/step - accuracy: 0.9983 - loss: 0.0131 - val_accuracy: 0.9056 - val_loss: 0.4200\n",
            "Epoch 8/10\n",
            "56/56 - 21s - 382ms/step - accuracy: 0.9978 - loss: 0.0117 - val_accuracy: 0.9213 - val_loss: 0.3279\n",
            "Epoch 9/10\n",
            "56/56 - 13s - 227ms/step - accuracy: 0.9994 - loss: 0.0031 - val_accuracy: 0.9169 - val_loss: 0.3539\n",
            "Epoch 10/10\n",
            "56/56 - 19s - 348ms/step - accuracy: 1.0000 - loss: 0.0016 - val_accuracy: 0.9258 - val_loss: 0.3348\n"
          ]
        }
      ],
      "source": [
        "model.compile(loss='sparse_categorical_crossentropy', optimizer='adam', metrics=['accuracy'])\n",
        "num_epochs = 10\n",
        "history = model.fit(train_padded, training_label_seq, epochs=num_epochs, validation_data=(validation_padded, validation_label_seq), verbose=2)"
      ]
    },
    {
      "cell_type": "markdown",
      "id": "27c423f6",
      "metadata": {
        "id": "27c423f6"
      },
      "source": [
        "#### Plotting Loss and Accuracy performances"
      ]
    },
    {
      "cell_type": "code",
      "execution_count": 32,
      "id": "48286cd8",
      "metadata": {
        "colab": {
          "base_uri": "https://localhost:8080/",
          "height": 882
        },
        "id": "48286cd8",
        "outputId": "284e76ad-b25f-4c63-a179-1b3661864de1"
      },
      "outputs": [
        {
          "output_type": "display_data",
          "data": {
            "text/plain": [
              "<Figure size 640x480 with 1 Axes>"
            ],
            "image/png": "[encoded data removed]"
          },
          "metadata": {}
        },
        {
          "output_type": "display_data",
          "data": {
            "text/plain": [
              "<Figure size 640x480 with 1 Axes>"
            ],
            "image/png": "[encoded data removed]"
          },
          "metadata": {}
        }
      ],
      "source": [
        "import matplotlib.pyplot as plt\n",
        "\n",
        "def plot_graphs(history, string):\n",
        "  plt.plot(history.history[string])\n",
        "  plt.plot(history.history['val_'+string])\n",
        "  plt.xlabel(\"Epochs\")\n",
        "  plt.ylabel(string)\n",
        "  plt.legend([string, 'val_'+string])\n",
        "  plt.show()\n",
        "\n",
        "plot_graphs(history, \"accuracy\")\n",
        "plot_graphs(history, \"loss\")"
      ]
    },
    {
      "cell_type": "markdown",
      "id": "38c499c1",
      "metadata": {
        "id": "38c499c1"
      },
      "source": [
        "#### Get Predictions!"
      ]
    },
    {
      "cell_type": "code",
      "execution_count": 33,
      "id": "9649be6d",
      "metadata": {
        "colab": {
          "base_uri": "https://localhost:8080/",
          "height": 0
        },
        "id": "9649be6d",
        "outputId": "b5fb6980-6edd-431d-9f2d-f488190c13b2"
      },
      "outputs": [
        {
          "output_type": "stream",
          "name": "stdout",
          "text": [
            "\u001b[1m14/14\u001b[0m \u001b[32m━━━━━━━━━━━━━━━━━━━━\u001b[0m\u001b[37m\u001b[0m \u001b[1m1s\u001b[0m 74ms/step\n"
          ]
        }
      ],
      "source": [
        "results = model.predict(validation_padded)"
      ]
    },
    {
      "cell_type": "code",
      "execution_count": 34,
      "id": "299d2532",
      "metadata": {
        "colab": {
          "base_uri": "https://localhost:8080/",
          "height": 0
        },
        "id": "299d2532",
        "outputId": "c4d44ba2-1976-4dfc-c55a-d763be871988"
      },
      "outputs": [
        {
          "output_type": "stream",
          "name": "stdout",
          "text": [
            "hobbit picture  four years away  lord rings director peter jackson said four years starts work film version hobbit.  oscar winner said visit sydney  desire  make  lengthy negotiations.  think gonna lot lawyers sitting room trying thrash deal ever happen   said new zealander. rights jrr tolkien book split two major film studios. jackson  currently filming remake hollywood classic king kong  said thought sale mgm studios sony corporation would cast uncertainty project. 43-year-old australian city visit lord rings exhibition  attracted 140 000 visitors since opened december.  film-maker recently sued film company new line cinema undisclosed damages alleged withheld profits lost revenue first part middle earth trilogy. fellowship ring 2001 went make worldwide profits $291 million (£152 million). jackson thought secured lucrative film directing deal history remake king kong  currently production wellington. picture  stars naomi watts oscar winner adrien brody  due released december. jackson also committed making film version lovely bones  based best-selling book alice sebold.\n",
            "entertainment\n"
          ]
        }
      ],
      "source": [
        "print(validation_articles[0])\n",
        "print(validation_labels[0])"
      ]
    },
    {
      "cell_type": "code",
      "execution_count": 35,
      "id": "040628be",
      "metadata": {
        "colab": {
          "base_uri": "https://localhost:8080/",
          "height": 0
        },
        "id": "040628be",
        "outputId": "355dbb5c-5c8e-446f-cba3-832bb0005ff0"
      },
      "outputs": [
        {
          "output_type": "stream",
          "name": "stdout",
          "text": [
            "[2.9128414e-06 4.3987613e-03 1.0577510e-03 2.3120629e-05 6.6405150e-06\n",
            " 9.9451077e-01]\n"
          ]
        }
      ],
      "source": [
        "print(results[0])"
      ]
    },
    {
      "cell_type": "code",
      "execution_count": 36,
      "id": "9bf3916b",
      "metadata": {
        "colab": {
          "base_uri": "https://localhost:8080/",
          "height": 0
        },
        "id": "9bf3916b",
        "outputId": "a0b95a34-6011-4f33-ed8d-cbc0a0aa2099"
      },
      "outputs": [
        {
          "output_type": "stream",
          "name": "stdout",
          "text": [
            "entertainment\n"
          ]
        }
      ],
      "source": [
        "labels = ['sport', 'bussiness', 'politics', 'tech', 'entertainment']\n",
        "print(labels[np.argmax(results[0]) - 1])\n"
      ]
    },
    {
      "cell_type": "code",
      "execution_count": 43,
      "id": "9b47492e",
      "metadata": {
        "id": "9b47492e"
      },
      "outputs": [],
      "source": [
        "#Modularising the predict function\n",
        "def predict_category(val_index):\n",
        "    labels = ['sport', 'bussiness', 'politics', 'tech', 'entertainment']\n",
        "    model.predict(validation_padded[val_index])\n",
        "    print('Article:', validation_articles[val_index].reshape(1,-1))\n",
        "    print('===========================================')\n",
        "    print('Label:', validation_labels[val_index])\n",
        "    print('===========================================')\n",
        "    print('Predicted Label:',labels[np.argmax(results[val_index]) - 1])\n",
        ""
      ]
    },
    {
      "cell_type": "code",
      "execution_count": 45,
      "id": "f7ff47d8",
      "metadata": {
        "id": "f7ff47d8"
      },
      "outputs": [],
      "source": [
        "def random_pred(random_article):\n",
        "    txt = [random_article]\n",
        "    seq = tokenizer.texts_to_sequences(txt)\n",
        "    padded = pad_sequences(seq, maxlen=max_length)\n",
        "    pred = model.predict(padded)\n",
        "    labels = ['sport', 'bussiness', 'politics', 'tech', 'entertainment']\n",
        "    print(labels[np.argmax(pred) - 1])"
      ]
    },
    {
      "cell_type": "code",
      "execution_count": 46,
      "id": "d1df5c01",
      "metadata": {
        "colab": {
          "base_uri": "https://localhost:8080/",
          "height": 0
        },
        "id": "d1df5c01",
        "outputId": "7f35fda2-4394-424c-a0f6-dd82d7cea694"
      },
      "outputs": [
        {
          "output_type": "stream",
          "name": "stdout",
          "text": [
            "\u001b[1m1/1\u001b[0m \u001b[32m━━━━━━━━━━━━━━━━━━━━\u001b[0m\u001b[37m\u001b[0m \u001b[1m0s\u001b[0m 41ms/step\n",
            "bussiness\n"
          ]
        }
      ],
      "source": [
        "random_art = 'cars pull down us retail figures us retail sales fell 0.3% in january  the biggest monthly decline since last august  driven down by a heavy fall in car sales.  the 3.3% fall in car sales had been expected  coming after december s 4% rise in car sales  fuelled by generous pre-christmas special offers. excluding the car sector  us retail sales were up 0.6% in january  twice what some analysts had been expecting. us retail spending is expected to rise in 2005  but not as quickly as in 2004.  steve gallagher  us chief economist at sg corporate & investment banking  said january s figures were  decent numbers .   we are not seeing the numbers that we saw in the second half of 2004  but they are still pretty healthy   he added. sales at appliance and electronic stores were down 0.6% in january  while sales at hardware stores dropped by 0.3% and furniture store sales dipped 0.1%. sales at clothing and clothing accessory stores jumped 1.8%  while sales at general merchandise stores  a category that includes department stores  rose by 0.9%. these strong gains were in part put down to consumers spending gift vouchers they had been given for christmas.  sales at restaurants  bars and coffee houses rose by 0.3%  while grocery store sales were up 0.5%. in december  overall retail sales rose by 1.1%. excluding the car sector  sales rose by just 0.3%. parul jain  deputy chief economist at nomura securities international  said consumer spending would continue to rise in 2005  only at a slower rate of growth than in 2004.  consumers continue to retain their strength in the first quarter   he said. van rourke  a bond strategist at popular securities  agreed that the latest retail sales figures were  slightly stronger than expected .'\n",
        "random_pred(random_art)"
      ]
    },
    {
      "cell_type": "code",
      "execution_count": null,
      "id": "993d9431",
      "metadata": {
        "id": "993d9431"
      },
      "outputs": [],
      "source": []
    }
  ],
  "metadata": {
    "kernelspec": {
      "display_name": "Python 3 (ipykernel)",
      "language": "python",
      "name": "python3"
    },
    "language_info": {
      "codemirror_mode": {
        "name": "ipython",
        "version": 3
      },
      "file_extension": ".py",
      "mimetype": "text/x-python",
      "name": "python",
      "nbconvert_exporter": "python",
      "pygments_lexer": "ipython3",
      "version": "3.8.5"
    },
    "colab": {
      "provenance": []
    }
  },
  "nbformat": 4,
  "nbformat_minor": 5
}